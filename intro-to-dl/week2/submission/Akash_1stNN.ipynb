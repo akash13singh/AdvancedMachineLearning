{
 "cells": [
  {
   "cell_type": "code",
   "execution_count": 1,
   "metadata": {},
   "outputs": [
    {
     "name": "stderr",
     "output_type": "stream",
     "text": [
      "Using TensorFlow backend.\n"
     ]
    },
    {
     "name": "stdout",
     "output_type": "stream",
     "text": [
      "(50000, 28, 28) (50000,)\n"
     ]
    },
    {
     "data": {
      "image/png": "[encoded data removed]",
      "text/plain": [
       "<matplotlib.figure.Figure at 0x7f5550676518>"
      ]
     },
     "metadata": {},
     "output_type": "display_data"
    }
   ],
   "source": [
    "from preprocessed_mnist import load_dataset\n",
    "X_train, y_train, X_val, y_val, X_test, y_test = load_dataset()\n",
    "print(X_train.shape, y_train.shape)\n",
    "import matplotlib.pyplot as plt\n",
    "%matplotlib inline\n",
    "plt.imshow(X_train[0], cmap=\"Greys\");"
   ]
  },
  {
   "cell_type": "code",
   "execution_count": 2,
   "metadata": {},
   "outputs": [],
   "source": [
    "import numpy as np\n",
    "import tensorflow as tf"
   ]
  },
  {
   "cell_type": "code",
   "execution_count": 3,
   "metadata": {},
   "outputs": [
    {
     "name": "stdout",
     "output_type": "stream",
     "text": [
      "(50000, 28, 28)\n",
      "(50000,)\n"
     ]
    }
   ],
   "source": [
    "print (X_train.shape)\n",
    "print (y_train.shape)"
   ]
  },
  {
   "cell_type": "code",
   "execution_count": 4,
   "metadata": {},
   "outputs": [
    {
     "name": "stdout",
     "output_type": "stream",
     "text": [
      "<class 'numpy.ndarray'>\n"
     ]
    }
   ],
   "source": [
    "print (type(X_train))"
   ]
  },
  {
   "cell_type": "code",
   "execution_count": 5,
   "metadata": {},
   "outputs": [
    {
     "name": "stdout",
     "output_type": "stream",
     "text": [
      "[0 1 2 3 4 5 6 7 8 9]\n"
     ]
    }
   ],
   "source": [
    "import numpy as np\n",
    "print (np.unique(y_train))"
   ]
  },
  {
   "cell_type": "code",
   "execution_count": 6,
   "metadata": {},
   "outputs": [],
   "source": [
    "input_X = tf.placeholder(tf.float32,[None, 28,28], name = \"input_X\")\n",
    "input_y = tf.placeholder(tf.int32,[None],name='input_y')"
   ]
  },
  {
   "cell_type": "code",
   "execution_count": 7,
   "metadata": {},
   "outputs": [],
   "source": [
    "X = tf.reshape(input_X, [-1,784])"
   ]
  },
  {
   "cell_type": "code",
   "execution_count": 101,
   "metadata": {},
   "outputs": [],
   "source": [
    "n_iters = 300\n",
    "tf.set_random_seed(0)\n",
    "np.random.seed(0)\n",
    "#batch_size =256\n",
    "lr = .05"
   ]
  },
  {
   "cell_type": "code",
   "execution_count": 102,
   "metadata": {},
   "outputs": [],
   "source": [
    "# weights1 = tf.Variable(tf.truncated_normal([784,300]))\n",
    "# bias1 = tf.Variable(tf.zeros([300]))\n",
    "# weights2 = tf.Variable(tf.truncated_normal([300,10]))\n",
    "# bias2 = tf.Variable(tf.zeros([10]))\n",
    "\n",
    "# Y1= tf.nn.relu(tf.matmul(X, weights1)+bias1)\n",
    "# logits = tf.matmul(Y1, weights2) + bias2\n",
    "# probability_y = tf.nn.softmax(logits)\n",
    "# cross_entropy = tf.reduce_mean(tf.nn.sparse_softmax_cross_entropy_with_logits(labels=input_y, logits= logits))\n",
    "# is_correct_prediction = tf.equal(tf.cast(tf.argmax(probability_y,1), dtype = tf.int32), input_y)\n",
    "# accuracy = tf.reduce_mean(tf.cast(is_correct_prediction, tf.float32))\n",
    "# optimizer = tf.train.AdamOptimizer(learning_rate= lr).minimize(cross_entropy)\n"
   ]
  },
  {
   "cell_type": "markdown",
   "metadata": {},
   "source": [
    "#### Define Model"
   ]
  },
  {
   "cell_type": "code",
   "execution_count": 103,
   "metadata": {},
   "outputs": [],
   "source": [
    "w1 = tf.Variable(tf.truncated_normal([784,300]))\n",
    "b1 = tf.Variable(tf.zeros([300]))\n",
    "\n",
    "w2 = tf.Variable(tf.truncated_normal([300,50]))\n",
    "b2 = tf.Variable(tf.zeros([50]))\n",
    "\n",
    "w3 = tf.Variable(tf.truncated_normal([50,10]))\n",
    "b3 = tf.Variable(tf.zeros([10]))\n",
    "\n",
    "Y1= tf.nn.sigmoid(tf.matmul(X, w1)+b1)\n",
    "Y2= tf.nn.sigmoid(tf.matmul(Y1, w2)+b2)\n",
    "logits = tf.nn.sigmoid(tf.matmul(Y2, w3)+b3)\n",
    "\n",
    "probability_y = tf.nn.softmax(logits)\n",
    "\n",
    "cross_entropy = tf.reduce_mean(tf.nn.sparse_softmax_cross_entropy_with_logits(labels=input_y, logits= logits))\n",
    "\n",
    "is_correct_prediction = tf.equal(tf.cast(tf.argmax(probability_y,1), dtype = tf.int32), input_y)\n",
    "accuracy = tf.reduce_mean(tf.cast(is_correct_prediction, tf.float32))\n",
    "\n",
    "optimizer = tf.train.AdamOptimizer(learning_rate= lr).minimize(cross_entropy)"
   ]
  },
  {
   "cell_type": "code",
   "execution_count": 104,
   "metadata": {},
   "outputs": [],
   "source": [
    "sess = tf.Session()\n",
    "sess.run(tf.global_variables_initializer())"
   ]
  },
  {
   "cell_type": "code",
   "execution_count": 105,
   "metadata": {},
   "outputs": [],
   "source": [
    "train_loss_arr = []\n",
    "train_acc_arr = []\n",
    "v_loss_arr = []\n",
    "v_acc_arr = []"
   ]
  },
  {
   "cell_type": "markdown",
   "metadata": {},
   "source": [
    "#### Train Model"
   ]
  },
  {
   "cell_type": "code",
   "execution_count": 106,
   "metadata": {},
   "outputs": [
    {
     "name": "stdout",
     "output_type": "stream",
     "text": [
      "Iteration 0\n",
      "Train Loss: 2.266217, Train Accuracy: 0.243920\n",
      "Validation Loss: 2.260512, Validation Accuracy: 0.259500\n",
      "\n",
      "Iteration 10\n",
      "Train Loss: 1.691557, Train Accuracy: 0.780160\n",
      "Validation Loss: 1.681459, Validation Accuracy: 0.796100\n",
      "\n",
      "Iteration 20\n",
      "Train Loss: 1.584670, Train Accuracy: 0.886160\n",
      "Validation Loss: 1.576230, Validation Accuracy: 0.896300\n",
      "\n",
      "Iteration 30\n",
      "Train Loss: 1.542929, Train Accuracy: 0.921640\n",
      "Validation Loss: 1.538471, Validation Accuracy: 0.926900\n",
      "\n",
      "Iteration 40\n",
      "Train Loss: 1.521546, Train Accuracy: 0.939280\n",
      "Validation Loss: 1.521986, Validation Accuracy: 0.938600\n",
      "\n",
      "Iteration 50\n",
      "Train Loss: 1.508580, Train Accuracy: 0.952120\n",
      "Validation Loss: 1.514084, Validation Accuracy: 0.944900\n",
      "\n",
      "Iteration 60\n",
      "Train Loss: 1.500093, Train Accuracy: 0.961080\n",
      "Validation Loss: 1.508727, Validation Accuracy: 0.951400\n",
      "\n",
      "Iteration 70\n",
      "Train Loss: 1.494151, Train Accuracy: 0.967500\n",
      "Validation Loss: 1.505423, Validation Accuracy: 0.955100\n",
      "\n",
      "Iteration 80\n",
      "Train Loss: 1.489763, Train Accuracy: 0.972460\n",
      "Validation Loss: 1.503360, Validation Accuracy: 0.957600\n",
      "\n",
      "Iteration 90\n",
      "Train Loss: 1.486402, Train Accuracy: 0.975820\n",
      "Validation Loss: 1.501958, Validation Accuracy: 0.959700\n",
      "\n",
      "Iteration 100\n",
      "Train Loss: 1.483754, Train Accuracy: 0.978480\n",
      "Validation Loss: 1.500974, Validation Accuracy: 0.960900\n",
      "\n",
      "Iteration 110\n",
      "Train Loss: 1.481527, Train Accuracy: 0.980780\n",
      "Validation Loss: 1.500021, Validation Accuracy: 0.960000\n",
      "\n",
      "Iteration 120\n",
      "Train Loss: 1.479640, Train Accuracy: 0.982700\n",
      "Validation Loss: 1.499276, Validation Accuracy: 0.960800\n",
      "\n",
      "Iteration 130\n",
      "Train Loss: 1.478063, Train Accuracy: 0.984000\n",
      "Validation Loss: 1.498598, Validation Accuracy: 0.961600\n",
      "\n",
      "Iteration 140\n",
      "Train Loss: 1.476706, Train Accuracy: 0.985320\n",
      "Validation Loss: 1.498186, Validation Accuracy: 0.962400\n",
      "\n",
      "Iteration 150\n",
      "Train Loss: 1.475533, Train Accuracy: 0.986400\n",
      "Validation Loss: 1.497723, Validation Accuracy: 0.963600\n",
      "\n",
      "Iteration 160\n",
      "Train Loss: 1.474522, Train Accuracy: 0.987500\n",
      "Validation Loss: 1.497345, Validation Accuracy: 0.963600\n",
      "\n",
      "Iteration 170\n",
      "Train Loss: 1.473620, Train Accuracy: 0.988140\n",
      "Validation Loss: 1.497012, Validation Accuracy: 0.964000\n",
      "\n",
      "Iteration 180\n",
      "Train Loss: 1.472851, Train Accuracy: 0.988800\n",
      "Validation Loss: 1.496722, Validation Accuracy: 0.964600\n",
      "\n",
      "Iteration 190\n",
      "Train Loss: 1.472172, Train Accuracy: 0.989500\n",
      "Validation Loss: 1.496430, Validation Accuracy: 0.964300\n",
      "\n",
      "Iteration 200\n",
      "Train Loss: 1.471574, Train Accuracy: 0.990020\n",
      "Validation Loss: 1.496076, Validation Accuracy: 0.965200\n",
      "\n",
      "Iteration 210\n",
      "Train Loss: 1.471047, Train Accuracy: 0.990580\n",
      "Validation Loss: 1.495752, Validation Accuracy: 0.965800\n",
      "\n",
      "Iteration 220\n",
      "Train Loss: 1.470588, Train Accuracy: 0.991000\n",
      "Validation Loss: 1.495337, Validation Accuracy: 0.966500\n",
      "\n",
      "Iteration 230\n",
      "Train Loss: 1.470150, Train Accuracy: 0.991400\n",
      "Validation Loss: 1.495122, Validation Accuracy: 0.966500\n",
      "\n",
      "Iteration 240\n",
      "Train Loss: 1.469754, Train Accuracy: 0.991620\n",
      "Validation Loss: 1.494724, Validation Accuracy: 0.967200\n",
      "\n",
      "Iteration 250\n",
      "Train Loss: 1.469413, Train Accuracy: 0.991880\n",
      "Validation Loss: 1.494443, Validation Accuracy: 0.966900\n",
      "\n",
      "Iteration 260\n",
      "Train Loss: 1.469119, Train Accuracy: 0.992100\n",
      "Validation Loss: 1.494397, Validation Accuracy: 0.966800\n",
      "\n",
      "Iteration 270\n",
      "Train Loss: 1.468849, Train Accuracy: 0.992320\n",
      "Validation Loss: 1.494216, Validation Accuracy: 0.967200\n",
      "\n",
      "Iteration 280\n",
      "Train Loss: 1.468586, Train Accuracy: 0.992560\n",
      "Validation Loss: 1.494120, Validation Accuracy: 0.967000\n",
      "\n",
      "Iteration 290\n",
      "Train Loss: 1.468340, Train Accuracy: 0.992760\n",
      "Validation Loss: 1.493953, Validation Accuracy: 0.967200\n",
      "\n"
     ]
    }
   ],
   "source": [
    "for i in range(n_iters):\n",
    "    ## not the best way to make batches. Ideally an interator so that all samples are presented at least once\n",
    "    s = np.random.choice(X_train.shape[0], batch_size)\n",
    "    batch_X = X_train[s]\n",
    "    batch_y = y_train[s]\n",
    "    \n",
    "    #training\n",
    "    sess.run(optimizer, feed_dict={input_X: X_train, input_y: y_train})\n",
    "    \n",
    "    #evaluation. computing training and test metrics per epoch\n",
    "    train_loss, train_acc  = sess.run([cross_entropy, accuracy], feed_dict={input_X: X_train, input_y: y_train})\n",
    "    v_loss, v_acc = sess.run([cross_entropy, accuracy], feed_dict={input_X: X_val, input_y: y_val})\n",
    "    if i%10 == 0:\n",
    "        print (\"Iteration %d\"%i)\n",
    "        print (\"Train Loss: %f, Train Accuracy: %f\"%(train_loss, train_acc))\n",
    "        print (\"Validation Loss: %f, Validation Accuracy: %f\"%(v_loss, v_acc))\n",
    "        print (\"\")\n",
    "    train_loss_arr.append(train_loss)\n",
    "    train_acc_arr.append(train_acc)\n",
    "    v_loss_arr.append(v_loss)\n",
    "    v_acc_arr.append(v_acc)\n",
    "    #print(\"train auc:\", roc_auc_score(y_train,predicted_y))\n",
    "    "
   ]
  },
  {
   "cell_type": "markdown",
   "metadata": {},
   "source": [
    "#### Evaluation plots"
   ]
  },
  {
   "cell_type": "code",
   "execution_count": 107,
   "metadata": {},
   "outputs": [
    {
     "data": {
      "image/png": "[encoded data removed]",
      "text/plain": [
       "<matplotlib.figure.Figure at 0x7f547a503400>"
      ]
     },
     "metadata": {},
     "output_type": "display_data"
    },
    {
     "data": {
      "image/png": "[encoded data removed]",
      "text/plain": [
       "<matplotlib.figure.Figure at 0x7f547af35c50>"
      ]
     },
     "metadata": {},
     "output_type": "display_data"
    }
   ],
   "source": [
    "plt.title(\"Accuracy: Training vs Vaildation\")\n",
    "plt.plot(train_acc_arr,label=\"Training Accuracy\")\n",
    "plt.plot(v_acc_arr,label =\"Validation Accuracy\")\n",
    "plt.xlabel(\"iteration\")\n",
    "plt.legend(loc=4)\n",
    "plt.grid(True)\n",
    "plt.show()\n",
    "\n",
    "\n",
    "# loss training vs testing dataset\n",
    "plt.title(\"Loss: Training vs Validation\")\n",
    "plt.plot(train_loss_arr,label=\"Training Loss\")\n",
    "plt.plot(v_loss_arr,label=\"Validation Loss\")\n",
    "plt.xlabel(\"iteration\")\n",
    "plt.legend(loc=1)\n",
    "plt.grid(True)\n",
    "plt.show()"
   ]
  },
  {
   "cell_type": "markdown",
   "metadata": {},
   "source": [
    "#### Calculate test accuracy"
   ]
  },
  {
   "cell_type": "code",
   "execution_count": 108,
   "metadata": {},
   "outputs": [],
   "source": [
    "predicted_test, test_acc = sess.run([probability_y, accuracy], feed_dict={input_X: X_test, input_y: y_test})"
   ]
  },
  {
   "cell_type": "code",
   "execution_count": 109,
   "metadata": {},
   "outputs": [
    {
     "name": "stdout",
     "output_type": "stream",
     "text": [
      "Test Accuracy: 0.963800\n"
     ]
    }
   ],
   "source": [
    "print(\"Test Accuracy: %f\"%test_acc)"
   ]
  },
  {
   "cell_type": "code",
   "execution_count": null,
   "metadata": {},
   "outputs": [],
   "source": []
  }
 ],
 "metadata": {
  "kernelspec": {
   "display_name": "Python 3",
   "language": "python",
   "name": "python3"
  },
  "language_info": {
   "codemirror_mode": {
    "name": "ipython",
    "version": 3
   },
   "file_extension": ".py",
   "mimetype": "text/x-python",
   "name": "python",
   "nbconvert_exporter": "python",
   "pygments_lexer": "ipython3",
   "version": "3.5.2"
  }
 },
 "nbformat": 4,
 "nbformat_minor": 2
}
