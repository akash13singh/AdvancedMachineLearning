{
 "cells": [
  {
   "cell_type": "markdown",
   "metadata": {},
   "source": [
    "# Setup\n"
   ]
  },
  {
   "cell_type": "markdown",
   "metadata": {},
   "source": [
    "## Loading tensorflow"
   ]
  },
  {
   "cell_type": "code",
   "execution_count": 1,
   "metadata": {
    "collapsed": true
   },
   "outputs": [],
   "source": [
    "import tensorflow as tf\n",
    "import numpy as np"
   ]
  },
  {
   "cell_type": "markdown",
   "metadata": {},
   "source": [
    "## Loading data and reshaping"
   ]
  },
  {
   "cell_type": "code",
   "execution_count": 2,
   "metadata": {
    "collapsed": false
   },
   "outputs": [
    {
     "name": "stderr",
     "output_type": "stream",
     "text": [
      "Using TensorFlow backend.\n"
     ]
    },
    {
     "name": "stdout",
     "output_type": "stream",
     "text": [
      "(50000, 28, 28) (50000,)\n"
     ]
    },
    {
     "data": {
      "image/png": "[encoded data removed]",
      "text/plain": [
       "<matplotlib.figure.Figure at 0x7f74ed867ba8>"
      ]
     },
     "metadata": {},
     "output_type": "display_data"
    }
   ],
   "source": [
    "from preprocessed_mnist import load_dataset\n",
    "X_train, y_train, X_val, y_val, X_test, y_test = load_dataset()\n",
    "print(X_train.shape, y_train.shape)\n",
    "import matplotlib.pyplot as plt\n",
    "%matplotlib inline\n",
    "plt.imshow(X_train[0], cmap=\"Greys\");"
   ]
  },
  {
   "cell_type": "code",
   "execution_count": 3,
   "metadata": {
    "collapsed": false
   },
   "outputs": [
    {
     "name": "stdout",
     "output_type": "stream",
     "text": [
      "(50000, 28, 28)\n",
      "(10000, 28, 28)\n"
     ]
    }
   ],
   "source": [
    "print(X_train.shape)\n",
    "print(X_test.shape)"
   ]
  },
  {
   "cell_type": "code",
   "execution_count": 4,
   "metadata": {
    "collapsed": true
   },
   "outputs": [],
   "source": [
    "X_train = X_train.reshape([X_train.shape[0], -1])\n",
    "X_test = X_test.reshape([X_test.shape[0], -1])"
   ]
  },
  {
   "cell_type": "code",
   "execution_count": 5,
   "metadata": {
    "collapsed": false
   },
   "outputs": [
    {
     "name": "stdout",
     "output_type": "stream",
     "text": [
      "(50000, 784)\n",
      "(10000, 784)\n"
     ]
    }
   ],
   "source": [
    "print(X_train.shape)\n",
    "print(X_test.shape)"
   ]
  },
  {
   "cell_type": "markdown",
   "metadata": {},
   "source": [
    "# Computations"
   ]
  },
  {
   "cell_type": "markdown",
   "metadata": {},
   "source": [
    "## Placeholder for data"
   ]
  },
  {
   "cell_type": "code",
   "execution_count": 6,
   "metadata": {
    "collapsed": true
   },
   "outputs": [],
   "source": [
    "X = tf.placeholder(tf.float32, shape=(None, 784))\n",
    "Y = tf.placeholder(tf.float32, shape=(None, 10))\n",
    "keep_prob = tf.placeholder(tf.float32) # probability of keeping a weight in dropout"
   ]
  },
  {
   "cell_type": "markdown",
   "metadata": {},
   "source": [
    "## Weights\n",
    "Random initialization for bias\n",
    "Xavier initialization for 'weights' W"
   ]
  },
  {
   "cell_type": "markdown",
   "metadata": {},
   "source": [
    "NN architecture:\n",
    "\n",
    "1. Input size 784 features of an image,\n",
    "\n",
    "2. First NN layer 784 in, 128 out-connections\n",
    "     - Linear function Z1=X*w1+b1\n",
    "     - Relu activation function\n",
    "     - Dropout\n",
    " \n",
    "3. Second NN layer 128 in/out connections\n",
    "     - Linear function Z2=A1*w2+b2\n",
    "     - Relu activation function\n",
    "     - Dropout\n",
    "4. Third NN layer 128 in connections, 10 out connections (10 classification problem)\n",
    "     - Linear function Z3=A2*w3+b3\n",
    "     - Sigmoid\n",
    "     \n",
    "     ( - Softmax - but applied through loss function crossentropy)\n"
   ]
  },
  {
   "cell_type": "code",
   "execution_count": 7,
   "metadata": {
    "collapsed": true
   },
   "outputs": [],
   "source": [
    "W1 = tf.get_variable(\"W1\",  [784, 128], initializer=tf.contrib.layers.xavier_initializer())\n",
    "b1 = tf.get_variable(\"b1\",  [128], initializer=tf.zeros_initializer())\n",
    "W2 = tf.get_variable(\"W2\",  [128, 128], initializer=tf.contrib.layers.xavier_initializer())\n",
    "b2 = tf.get_variable(\"b2\",  [128], initializer=tf.zeros_initializer())\n",
    "W3 = tf.get_variable(\"W3\", [128, 10], initializer=tf.contrib.layers.xavier_initializer())\n",
    "b3 = tf.get_variable(\"b3\",  [10], initializer=tf.zeros_initializer())"
   ]
  },
  {
   "cell_type": "code",
   "execution_count": 8,
   "metadata": {
    "collapsed": true
   },
   "outputs": [],
   "source": [
    "Z1 = tf.matmul(X, W1)+b1\n",
    "A1 = tf.nn.relu(Z1)\n",
    "A1 = tf.nn.dropout(A1, keep_prob)\n",
    "Z2 = tf.matmul(A1, W2)+b2\n",
    "A2 = tf.nn.relu(Z2)\n",
    "A2 = tf.nn.dropout(A2, keep_prob)\n",
    "Z3 = tf.matmul(A2, W3)+b3\n",
    "A3 = tf.nn.sigmoid(Z3)"
   ]
  },
  {
   "cell_type": "code",
   "execution_count": 9,
   "metadata": {
    "collapsed": true
   },
   "outputs": [],
   "source": [
    "def compute_cost(A3, Y):\n",
    "    cost = tf.reduce_mean(tf.nn.softmax_cross_entropy_with_logits(labels=Y, logits=A3))\n",
    "    return cost"
   ]
  },
  {
   "cell_type": "markdown",
   "metadata": {},
   "source": [
    "Initializing learning rate with exponential decay, It will allow to converge faster to minimum."
   ]
  },
  {
   "cell_type": "code",
   "execution_count": 16,
   "metadata": {
    "collapsed": true
   },
   "outputs": [],
   "source": [
    "cost = compute_cost(A3, Y)\n",
    "starter_learning_rate = 0.0005\n",
    "global_step = tf.Variable(0, trainable=False)\n",
    "learning_rate = tf.train.exponential_decay(starter_learning_rate, global_step, 100, 0.85, staircase=True)\n",
    "optimizer = tf.train.AdamOptimizer(learning_rate).minimize(cost)\n",
    "init = tf.global_variables_initializer()"
   ]
  },
  {
   "cell_type": "markdown",
   "metadata": {},
   "source": [
    "### Perform one-hot encoding for Y vectors\n",
    "\n",
    "As  shown `X_train[0]` is five letter"
   ]
  },
  {
   "cell_type": "code",
   "execution_count": 11,
   "metadata": {
    "collapsed": false
   },
   "outputs": [
    {
     "data": {
      "text/plain": [
       "5"
      ]
     },
     "execution_count": 11,
     "metadata": {},
     "output_type": "execute_result"
    }
   ],
   "source": [
    "y_train[0]"
   ]
  },
  {
   "cell_type": "code",
   "execution_count": 12,
   "metadata": {
    "collapsed": true
   },
   "outputs": [],
   "source": [
    "y_train = np.eye(10)[y_train]\n",
    "y_test = np.eye(10)[y_test]"
   ]
  },
  {
   "cell_type": "code",
   "execution_count": 13,
   "metadata": {
    "collapsed": false
   },
   "outputs": [
    {
     "data": {
      "text/plain": [
       "array([ 0.,  0.,  0.,  0.,  0.,  1.,  0.,  0.,  0.,  0.])"
      ]
     },
     "execution_count": 13,
     "metadata": {},
     "output_type": "execute_result"
    }
   ],
   "source": [
    "y_train[0]"
   ]
  },
  {
   "cell_type": "code",
   "execution_count": 14,
   "metadata": {
    "collapsed": false
   },
   "outputs": [
    {
     "data": {
      "text/plain": [
       "True"
      ]
     },
     "execution_count": 14,
     "metadata": {},
     "output_type": "execute_result"
    }
   ],
   "source": [
    "y_train[0][5]==1"
   ]
  },
  {
   "cell_type": "code",
   "execution_count": 17,
   "metadata": {
    "collapsed": false
   },
   "outputs": [
    {
     "name": "stdout",
     "output_type": "stream",
     "text": [
      "Train cost after 10 epochs: 1.50649\n",
      "Test cost after 10 epochs: 1.50715\n",
      "Train cost after 20 epochs: 1.48873\n",
      "Test cost after 20 epochs: 1.49298\n",
      "Train cost after 30 epochs: 1.48047\n",
      "Test cost after 30 epochs: 1.4875\n",
      "Train cost after 40 epochs: 1.47611\n",
      "Test cost after 40 epochs: 1.48439\n",
      "Train cost after 50 epochs: 1.47311\n",
      "Test cost after 50 epochs: 1.48267\n",
      "Train cost after 60 epochs: 1.47128\n",
      "Test cost after 60 epochs: 1.48141\n",
      "Train cost after 70 epochs: 1.4696\n",
      "Test cost after 70 epochs: 1.47973\n",
      "Train cost after 80 epochs: 1.46826\n",
      "Test cost after 80 epochs: 1.47942\n",
      "Train cost after 90 epochs: 1.4674\n",
      "Test cost after 90 epochs: 1.47933\n",
      "Train cost after 100 epochs: 1.46671\n",
      "Test cost after 100 epochs: 1.47906\n"
     ]
    },
    {
     "data": {
      "image/png": "[encoded data removed]",
      "text/plain": [
       "<matplotlib.figure.Figure at 0x7f74a8b99550>"
      ]
     },
     "metadata": {},
     "output_type": "display_data"
    },
    {
     "name": "stdout",
     "output_type": "stream",
     "text": [
      "Train Accuracy: 0.99412\n",
      "Test Accuracy: 0.9797\n"
     ]
    }
   ],
   "source": [
    "batch_size = 500\n",
    "with tf.Session() as sess:\n",
    "    sess.run(init)\n",
    "    train_costs = []\n",
    "    test_costs = []\n",
    "    for epoch in range(100):\n",
    "        for i in range(0, 50000, batch_size):\n",
    "            sess.run(optimizer, feed_dict={X:X_train[i:i+batch_size], Y:y_train[i: i+batch_size], keep_prob : 0.65})\n",
    "        train_costs.append(sess.run(cost, feed_dict={X:X_train, Y:y_train, keep_prob : 1}))\n",
    "        test_costs.append(sess.run(cost, feed_dict={X:X_test, Y:y_test, keep_prob : 1}))\n",
    "        if epoch%10 == 9:\n",
    "            print(\"Train cost after \" + str(epoch+1)+ \" epochs: \"+ str(train_costs[-1]))\n",
    "            print(\"Test cost after \" + str(epoch+1)+ \" epochs: \"+ str(test_costs[-1]))\n",
    "    iterations = list(range(100))\n",
    "    plt.plot(iterations, train_costs, label='Train')\n",
    "    plt.plot(iterations, test_costs, label='Test')\n",
    "    plt.ylabel('train cost')\n",
    "    plt.xlabel('iterations')\n",
    "    plt.show()\n",
    "    \n",
    "    # Calculate the correct predictions\n",
    "    predict_op = tf.argmax(Z3, 1)\n",
    "    correct_prediction = tf.equal(predict_op, tf.argmax(Y, 1))\n",
    "\n",
    "    # Calculate accuracy on the test set\n",
    "    accuracy = tf.reduce_mean(tf.cast(correct_prediction, \"float\"))\n",
    "    train_accuracy = accuracy.eval({X: X_train, Y: y_train, keep_prob : 1})\n",
    "    test_accuracy = accuracy.eval({X: X_test, Y: y_test, keep_prob : 1})\n",
    "    print(\"Train Accuracy:\", train_accuracy)\n",
    "    print(\"Test Accuracy:\", test_accuracy)"
   ]
  },
  {
   "cell_type": "code",
   "execution_count": null,
   "metadata": {
    "collapsed": true
   },
   "outputs": [],
   "source": []
  }
 ],
 "metadata": {
  "kernelspec": {
   "display_name": "Python 2",
   "language": "python",
   "name": "python2"
  },
  "language_info": {
   "codemirror_mode": {
    "name": "ipython",
    "version": 2
   },
   "file_extension": ".py",
   "mimetype": "text/x-python",
   "name": "python",
   "nbconvert_exporter": "python",
   "pygments_lexer": "ipython2",
   "version": "2.7.12"
  }
 },
 "nbformat": 4,
 "nbformat_minor": 2
}
