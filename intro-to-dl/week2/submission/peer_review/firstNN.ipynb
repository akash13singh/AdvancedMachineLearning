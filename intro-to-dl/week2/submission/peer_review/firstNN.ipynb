{
 "cells": [
  {
   "cell_type": "code",
   "execution_count": 1,
   "metadata": {
    "collapsed": false
   },
   "outputs": [
    {
     "name": "stderr",
     "output_type": "stream",
     "text": [
      "Using TensorFlow backend.\n"
     ]
    },
    {
     "name": "stdout",
     "output_type": "stream",
     "text": [
      "(50000, 28, 28) (50000,)\n"
     ]
    },
    {
     "data": {
      "image/png": "[encoded data removed]",
      "text/plain": [
       "<matplotlib.figure.Figure at 0x7fc29d59b160>"
      ]
     },
     "metadata": {},
     "output_type": "display_data"
    }
   ],
   "source": [
    "from preprocessed_mnist import load_dataset\n",
    "X_train, y_train, X_val, y_val, X_test, y_test = load_dataset()\n",
    "print(X_train.shape, y_train.shape)\n",
    "import matplotlib.pyplot as plt\n",
    "%matplotlib inline\n",
    "plt.imshow(X_train[0], cmap=\"Greys\");"
   ]
  },
  {
   "cell_type": "code",
   "execution_count": 2,
   "metadata": {
    "collapsed": true
   },
   "outputs": [],
   "source": [
    "import tensorflow as tf\n",
    "import numpy as np"
   ]
  },
  {
   "cell_type": "code",
   "execution_count": 3,
   "metadata": {
    "collapsed": true
   },
   "outputs": [],
   "source": [
    "def convert_to_one_hot(Y, C):\n",
    "    Y = np.eye(C)[Y.reshape(-1)]\n",
    "    return Y"
   ]
  },
  {
   "cell_type": "code",
   "execution_count": 4,
   "metadata": {
    "collapsed": false
   },
   "outputs": [
    {
     "data": {
      "text/plain": [
       "(50000, 784)"
      ]
     },
     "execution_count": 4,
     "metadata": {},
     "output_type": "execute_result"
    }
   ],
   "source": [
    "X_train = X_train.reshape(50000,28*28)\n",
    "X_train.shape"
   ]
  },
  {
   "cell_type": "code",
   "execution_count": 5,
   "metadata": {
    "collapsed": true
   },
   "outputs": [],
   "source": [
    "X_val = X_val.reshape(10000, 28*28)"
   ]
  },
  {
   "cell_type": "code",
   "execution_count": 6,
   "metadata": {
    "collapsed": false
   },
   "outputs": [
    {
     "data": {
      "text/plain": [
       "(10000, 784)"
      ]
     },
     "execution_count": 6,
     "metadata": {},
     "output_type": "execute_result"
    }
   ],
   "source": [
    "X_test = X_test.reshape(10000, 28*28)\n",
    "X_test.shape"
   ]
  },
  {
   "cell_type": "code",
   "execution_count": 7,
   "metadata": {
    "collapsed": true
   },
   "outputs": [],
   "source": [
    "# One-hot encode target variables for softmax\n",
    "y_train = convert_to_one_hot(y_train,10)\n",
    "y_val = convert_to_one_hot(y_val,10)\n",
    "y_test = convert_to_one_hot(y_test,10)"
   ]
  },
  {
   "cell_type": "code",
   "execution_count": 8,
   "metadata": {
    "collapsed": false
   },
   "outputs": [
    {
     "data": {
      "text/plain": [
       "(50000, 10)"
      ]
     },
     "execution_count": 8,
     "metadata": {},
     "output_type": "execute_result"
    }
   ],
   "source": [
    "y_train.shape"
   ]
  },
  {
   "cell_type": "code",
   "execution_count": 9,
   "metadata": {
    "collapsed": true
   },
   "outputs": [],
   "source": [
    "X = tf.placeholder(tf.float32, shape=(None, 784))\n",
    "Y = tf.placeholder(tf.float32, shape=(None, 10))"
   ]
  },
  {
   "cell_type": "code",
   "execution_count": 10,
   "metadata": {
    "collapsed": true
   },
   "outputs": [],
   "source": [
    "W1 = tf.get_variable(\"W1\",  [784, 100], initializer=tf.contrib.layers.xavier_initializer())\n",
    "b1 = tf.get_variable(\"b1\",  [100], initializer=tf.zeros_initializer())\n",
    "W2 = tf.get_variable(\"W2\",  [100, 100], initializer=tf.contrib.layers.xavier_initializer())\n",
    "b2 = tf.get_variable(\"b2\",  [100], initializer=tf.zeros_initializer())\n",
    "W3 = tf.get_variable(\"W3\", [100, 10], initializer=tf.contrib.layers.xavier_initializer())\n",
    "b3 = tf.get_variable(\"b3\",  [10], initializer=tf.zeros_initializer())"
   ]
  },
  {
   "cell_type": "code",
   "execution_count": 11,
   "metadata": {
    "collapsed": true
   },
   "outputs": [],
   "source": [
    "Z1 = tf.add(tf.matmul(X, W1),b1)\n",
    "A1 = tf.nn.relu(Z1)\n",
    "Z2 = tf.add(tf.matmul(A1, W2),b2)\n",
    "A2 = tf.nn.relu(Z2)\n",
    "Z3 = tf.add(tf.matmul(A2, W3),b3)\n",
    "A3 = tf.nn.softmax(Z3)"
   ]
  },
  {
   "cell_type": "code",
   "execution_count": 12,
   "metadata": {
    "collapsed": true
   },
   "outputs": [],
   "source": [
    "def compute_cost(A3, Y):\n",
    "    cost = tf.reduce_mean(tf.nn.softmax_cross_entropy_with_logits(labels=Y, logits=A3))\n",
    "    return cost"
   ]
  },
  {
   "cell_type": "code",
   "execution_count": 13,
   "metadata": {
    "collapsed": true
   },
   "outputs": [],
   "source": [
    "EPOCHS = 50\n",
    "LEARNING_RATE = 0.0005"
   ]
  },
  {
   "cell_type": "code",
   "execution_count": 14,
   "metadata": {
    "collapsed": true
   },
   "outputs": [],
   "source": [
    "loss = tf.reduce_mean(tf.nn.softmax_cross_entropy_with_logits(labels=Y, logits=A3))\n",
    "optimizer = tf.train.AdamOptimizer(LEARNING_RATE).minimize(loss)\n",
    "init = tf.global_variables_initializer()"
   ]
  },
  {
   "cell_type": "code",
   "execution_count": 15,
   "metadata": {
    "collapsed": true
   },
   "outputs": [],
   "source": [
    "def iterate_minibatches(inputs, targets, batchsize, shuffle=False):\n",
    "    assert inputs.shape[0] == targets.shape[0]\n",
    "    if shuffle:\n",
    "        indices = np.arange(inputs.shape[0])\n",
    "        np.random.shuffle(indices)\n",
    "    for start_idx in range(0, inputs.shape[0] - batchsize + 1, batchsize):\n",
    "        if shuffle:\n",
    "            excerpt = indices[start_idx:start_idx + batchsize]\n",
    "        else:\n",
    "            excerpt = slice(start_idx, start_idx + batchsize)\n",
    "        yield inputs[excerpt], targets[excerpt]"
   ]
  },
  {
   "cell_type": "code",
   "execution_count": 16,
   "metadata": {
    "collapsed": false
   },
   "outputs": [
    {
     "name": "stdout",
     "output_type": "stream",
     "text": [
      "Epoch: 0  train cost: 1.67093  val cost: 1.6623\n",
      "Epoch: 1  train cost: 1.56624  val cost: 1.55644\n",
      "Epoch: 2  train cost: 1.54792  val cost: 1.54131\n",
      "Epoch: 3  train cost: 1.53641  val cost: 1.53204\n",
      "Epoch: 4  train cost: 1.5283  val cost: 1.52552\n",
      "Epoch: 5  train cost: 1.52275  val cost: 1.52065\n",
      "Epoch: 6  train cost: 1.51753  val cost: 1.51637\n",
      "Epoch: 7  train cost: 1.51258  val cost: 1.51196\n",
      "Epoch: 8  train cost: 1.51033  val cost: 1.51084\n",
      "Epoch: 9  train cost: 1.50642  val cost: 1.50775\n",
      "Epoch: 10  train cost: 1.50386  val cost: 1.50541\n",
      "Epoch: 11  train cost: 1.50191  val cost: 1.50451\n",
      "Epoch: 12  train cost: 1.4994  val cost: 1.5033\n",
      "Epoch: 13  train cost: 1.49742  val cost: 1.50156\n",
      "Epoch: 14  train cost: 1.49554  val cost: 1.50114\n",
      "Epoch: 15  train cost: 1.49425  val cost: 1.49996\n",
      "Epoch: 16  train cost: 1.49245  val cost: 1.49874\n",
      "Epoch: 17  train cost: 1.49124  val cost: 1.49901\n",
      "Epoch: 18  train cost: 1.48958  val cost: 1.4977\n",
      "Epoch: 19  train cost: 1.48862  val cost: 1.49715\n",
      "Epoch: 20  train cost: 1.48694  val cost: 1.49625\n",
      "Epoch: 21  train cost: 1.48627  val cost: 1.49587\n",
      "Epoch: 22  train cost: 1.48543  val cost: 1.496\n",
      "Epoch: 23  train cost: 1.4844  val cost: 1.49511\n",
      "Epoch: 24  train cost: 1.48378  val cost: 1.49468\n",
      "Epoch: 25  train cost: 1.48258  val cost: 1.49428\n",
      "Epoch: 26  train cost: 1.48169  val cost: 1.49362\n",
      "Epoch: 27  train cost: 1.48124  val cost: 1.49373\n",
      "Epoch: 28  train cost: 1.48126  val cost: 1.49416\n",
      "Epoch: 29  train cost: 1.48052  val cost: 1.49356\n",
      "Epoch: 30  train cost: 1.47954  val cost: 1.49287\n",
      "Epoch: 31  train cost: 1.47925  val cost: 1.4929\n",
      "Epoch: 32  train cost: 1.47816  val cost: 1.49176\n",
      "Epoch: 33  train cost: 1.47783  val cost: 1.49214\n",
      "Epoch: 34  train cost: 1.47715  val cost: 1.49209\n",
      "Epoch: 35  train cost: 1.47669  val cost: 1.49166\n",
      "Epoch: 36  train cost: 1.47623  val cost: 1.49143\n",
      "Epoch: 37  train cost: 1.47594  val cost: 1.49123\n",
      "Epoch: 38  train cost: 1.47616  val cost: 1.4922\n",
      "Epoch: 39  train cost: 1.47524  val cost: 1.49091\n",
      "Epoch: 40  train cost: 1.47506  val cost: 1.49066\n",
      "Epoch: 41  train cost: 1.4749  val cost: 1.49015\n",
      "Epoch: 42  train cost: 1.475  val cost: 1.49109\n",
      "Epoch: 43  train cost: 1.47456  val cost: 1.48997\n",
      "Epoch: 44  train cost: 1.47418  val cost: 1.48996\n",
      "Epoch: 45  train cost: 1.47415  val cost: 1.49034\n",
      "Epoch: 46  train cost: 1.47378  val cost: 1.48987\n",
      "Epoch: 47  train cost: 1.47351  val cost: 1.48951\n",
      "Epoch: 48  train cost: 1.47336  val cost: 1.48954\n",
      "Epoch: 49  train cost: 1.47327  val cost: 1.48938\n",
      "Train Accuracy: 0.9887\n",
      "Test Accuracy: 0.9705\n"
     ]
    }
   ],
   "source": [
    "batch_size = 500\n",
    "with tf.Session() as sess:\n",
    "    sess.run(init)\n",
    "    train_costs = []\n",
    "    val_costs = []\n",
    "    for epoch in range(0,EPOCHS):\n",
    "        #for i in range(0, 50000, batch_size):\n",
    "        for batch in iterate_minibatches(X_train, y_train, batch_size, shuffle=True):            \n",
    "            x_batch, y_batch = batch        \n",
    "            #sess.run(optimizer, feed_dict={X:X_train[i:i+batch_size], Y:y_train[i: i+batch_size], keep_prob : 0.65})\n",
    "            #sess.run(optimizer, feed_dict={X:X_train[i:i+batch_size], Y:y_train[i: i+batch_size]})\n",
    "            sess.run(optimizer, feed_dict={X:x_batch, Y:y_batch})\n",
    "        train_costs.append(sess.run(loss, feed_dict={X:X_train, Y:y_train}))\n",
    "        val_costs.append(sess.run(loss, feed_dict={X:X_val, Y:y_val}))\n",
    "        print(\"Epoch:\", epoch, \" train cost:\", train_costs[-1],\" val cost:\", val_costs[-1])    \n",
    "    \n",
    "    # Predictions for test set\n",
    "    predict_op = tf.argmax(Z3, 1)\n",
    "    correct_prediction = tf.equal(predict_op, tf.argmax(Y, 1))\n",
    "    accuracy = tf.reduce_mean(tf.cast(correct_prediction, \"float\"))\n",
    "    train_accuracy = accuracy.eval({X: X_train, Y: y_train})\n",
    "    test_accuracy = accuracy.eval({X: X_test, Y: y_test})\n",
    "    print(\"Train Accuracy:\", train_accuracy)\n",
    "    print(\"Test Accuracy:\", test_accuracy)"
   ]
  },
  {
   "cell_type": "code",
   "execution_count": 17,
   "metadata": {
    "collapsed": false
   },
   "outputs": [
    {
     "data": {
      "image/png": "[encoded data removed]",
      "text/plain": [
       "<matplotlib.figure.Figure at 0x7fc28f683710>"
      ]
     },
     "metadata": {},
     "output_type": "display_data"
    }
   ],
   "source": [
    "# Create a plot with the loss as requested\n",
    "iterations = list(range(EPOCHS))\n",
    "plt.plot(iterations, train_costs, label='Train')\n",
    "plt.plot(iterations, val_costs, label='Val')\n",
    "plt.ylabel('Train and Validation Loss')\n",
    "plt.xlabel('Epoch')\n",
    "plt.title(\"Train and Validation Loss\")\n",
    "plt.show()    "
   ]
  },
  {
   "cell_type": "code",
   "execution_count": null,
   "metadata": {
    "collapsed": true
   },
   "outputs": [],
   "source": []
  }
 ],
 "metadata": {
  "kernelspec": {
   "display_name": "Python 2",
   "language": "python",
   "name": "python2"
  },
  "language_info": {
   "codemirror_mode": {
    "name": "ipython",
    "version": 2
   },
   "file_extension": ".py",
   "mimetype": "text/x-python",
   "name": "python",
   "nbconvert_exporter": "python",
   "pygments_lexer": "ipython2",
   "version": "2.7.12"
  }
 },
 "nbformat": 4,
 "nbformat_minor": 2
}
