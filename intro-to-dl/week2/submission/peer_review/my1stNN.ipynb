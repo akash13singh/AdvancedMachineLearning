{
 "cells": [
  {
   "cell_type": "code",
   "execution_count": 1,
   "metadata": {
    "collapsed": false
   },
   "outputs": [
    {
     "name": "stderr",
     "output_type": "stream",
     "text": [
      "Using TensorFlow backend.\n"
     ]
    },
    {
     "name": "stdout",
     "output_type": "stream",
     "text": [
      "(50000, 28, 28) (50000,)\n"
     ]
    },
    {
     "data": {
      "image/png": "[encoded data removed]",
      "text/plain": [
       "<matplotlib.figure.Figure at 0x7fe1432596a0>"
      ]
     },
     "metadata": {},
     "output_type": "display_data"
    }
   ],
   "source": [
    "from preprocessed_mnist import load_dataset\n",
    "X_train, y_train, X_val, y_val, X_test, y_test = load_dataset()\n",
    "print(X_train.shape, y_train.shape)\n",
    "import matplotlib.pyplot as plt\n",
    "%matplotlib inline\n",
    "plt.imshow(X_train[0], cmap=\"Greys\");"
   ]
  },
  {
   "cell_type": "code",
   "execution_count": 2,
   "metadata": {
    "collapsed": true
   },
   "outputs": [],
   "source": [
    "import tensorflow as tf"
   ]
  },
  {
   "cell_type": "code",
   "execution_count": 3,
   "metadata": {
    "collapsed": true
   },
   "outputs": [],
   "source": [
    "\n",
    "X = tf.placeholder(dtype=tf.float32, shape = (None, 28, 28), name = 'X')\n",
    "y = tf.placeholder(dtype=tf.int32, shape = (None,), name = 'y' )\n",
    "\n",
    "W1 = tf.get_variable(\"W1\", [28 * 28, 128], initializer=tf.contrib.layers.xavier_initializer(seed=1))\n",
    "b1 = tf.get_variable(\"b1\", [128], initializer=tf.zeros_initializer())\n",
    "\n",
    "#flatten X input to 1D\n",
    "X1 = tf.contrib.layers.flatten(X)\n",
    "z1 = tf.matmul(X1, W1) + b1\n",
    "a1 = tf.nn.relu(z1)\n",
    "\n",
    "W2 = tf.get_variable(\"W2\", [128, 64], initializer=tf.contrib.layers.xavier_initializer(seed=1))\n",
    "b2 = tf.get_variable(\"b2\", [64], initializer=tf.zeros_initializer())\n",
    "z2 = tf.matmul(a1, W2) + b2\n",
    "a2 = tf.nn.relu(z2)    \n",
    "\n",
    "\n",
    "W3 = tf.get_variable(\"W3\", [64, 10], initializer=tf.contrib.layers.xavier_initializer(seed=1))\n",
    "b3 = tf.get_variable(\"b3\", [10], initializer=tf.zeros_initializer())\n",
    "z3 = tf.matmul(a2, W3) + b3    \n",
    "predict_y = tf.nn.softmax(z3)\n",
    "\n",
    "y1 = tf.one_hot(y, depth = 10)    \n",
    "loss = tf.reduce_mean(tf.reduce_sum(-tf.log(predict_y) * y1)) \n",
    "       "
   ]
  },
  {
   "cell_type": "code",
   "execution_count": 4,
   "metadata": {
    "collapsed": true
   },
   "outputs": [],
   "source": [
    "# Calculate the correct predictions\n",
    "correct_prediction = tf.equal(tf.argmax(z3), tf.argmax(y1))\n",
    "\n",
    "# Calculate accuracy on the test set\n",
    "accuracy = tf.reduce_mean(tf.cast(correct_prediction, \"float\"))"
   ]
  },
  {
   "cell_type": "code",
   "execution_count": 5,
   "metadata": {
    "collapsed": true
   },
   "outputs": [],
   "source": [
    "optimizer = tf.train.AdamOptimizer().minimize(loss)"
   ]
  },
  {
   "cell_type": "code",
   "execution_count": 6,
   "metadata": {
    "collapsed": false
   },
   "outputs": [
    {
     "name": "stderr",
     "output_type": "stream",
     "text": [
      "/opt/conda/lib/python3.6/site-packages/ipykernel/__main__.py:12: VisibleDeprecationWarning: using a non-integer number instead of an integer will result in an error in the future\n"
     ]
    },
    {
     "name": "stdout",
     "output_type": "stream",
     "text": [
      "Epoch: 1 cost= 10.737491992\n",
      "Train Accuracy: 0.58554\n",
      "Test Accuracy: 0.5957\n",
      "Epoch: 11 cost= 1.528155811\n",
      "Train Accuracy: 0.9157\n",
      "Test Accuracy: 0.9187\n",
      "Epoch: 21 cost= 1.020944629\n",
      "Train Accuracy: 0.94366\n",
      "Test Accuracy: 0.9431\n",
      "Epoch: 31 cost= 0.753776074\n",
      "Train Accuracy: 0.95836\n",
      "Test Accuracy: 0.9538\n",
      "Epoch: 41 cost= 0.580569714\n",
      "Train Accuracy: 0.96784\n",
      "Test Accuracy: 0.9602\n",
      "Epoch: 51 cost= 0.457335846\n",
      "Train Accuracy: 0.97488\n",
      "Test Accuracy: 0.9653\n",
      "Epoch: 61 cost= 0.364523248\n",
      "Train Accuracy: 0.98084\n",
      "Test Accuracy: 0.9689\n",
      "Epoch: 71 cost= 0.293268622\n",
      "Train Accuracy: 0.98512\n",
      "Test Accuracy: 0.9708\n",
      "Epoch: 81 cost= 0.237467719\n",
      "Train Accuracy: 0.98868\n",
      "Test Accuracy: 0.9719\n",
      "Epoch: 91 cost= 0.192738831\n",
      "Train Accuracy: 0.99138\n",
      "Test Accuracy: 0.9732\n"
     ]
    }
   ],
   "source": [
    "from sklearn.metrics import accuracy_score, log_loss\n",
    "trainLoss = []\n",
    "testLoss = []\n",
    "trainLossTf = []\n",
    "batchNum = 5\n",
    "batchSize = X_train.shape[0] / batchNum\n",
    "s = tf.Session()\n",
    "s.run(tf.global_variables_initializer())\n",
    "for epoch in range(100):\n",
    "    avg_cost = 0.\n",
    "    for batch_i in range(batchNum):\n",
    "        X_batch, y_batch = X_train[batch_i * batchSize: (batch_i + 1) * batchSize],\\\n",
    "                           y_train[batch_i * batchSize: (batch_i + 1) * batchSize]\n",
    "        cost, _ = s.run([loss, optimizer], feed_dict = {X: X_batch, y: y_batch})\n",
    "        avg_cost += cost/batchSize\n",
    "    trainLossTf.append(avg_cost)        \n",
    "    trainLoss.append(log_loss(y_train, s.run(predict_y, {X:X_train})))\n",
    "    testLoss.append(log_loss(y_test, s.run(predict_y, {X:X_test})))\n",
    "    if epoch % 10 == 0:    \n",
    "        print(\"Epoch:\", '%d' % (epoch+1), \"cost=\", \"{:.9f}\".format(avg_cost))\n",
    "        print (\"Train Accuracy:\", accuracy_score(y_train, s.run(tf.argmax(s.run(predict_y, {X:X_train}), axis = 1))))\n",
    "        print (\"Test Accuracy:\", accuracy_score(y_test, s.run(tf.argmax(s.run(predict_y, {X:X_test}), axis = 1))))"
   ]
  },
  {
   "cell_type": "code",
   "execution_count": 7,
   "metadata": {
    "collapsed": false
   },
   "outputs": [
    {
     "name": "stdout",
     "output_type": "stream",
     "text": [
      "train auc: 0.99322\n",
      "test auc: 0.9734\n"
     ]
    }
   ],
   "source": [
    "print(\"train auc:\", accuracy_score(y_train, s.run(tf.argmax(s.run(predict_y, {X:X_train}), axis = 1))))\n",
    "print(\"test auc:\", accuracy_score(y_test, s.run(tf.argmax(s.run(predict_y, {X:X_test}), axis = 1))))"
   ]
  },
  {
   "cell_type": "code",
   "execution_count": 8,
   "metadata": {
    "collapsed": false
   },
   "outputs": [
    {
     "data": {
      "image/png": "[encoded data removed]",
      "text/plain": [
       "<matplotlib.figure.Figure at 0x7fe13507bda0>"
      ]
     },
     "metadata": {},
     "output_type": "display_data"
    }
   ],
   "source": [
    "# Plot the train loss and test loss as a function of the training iteration number\n",
    "from matplotlib import pyplot as plt\n",
    "plt.plot(trainLoss, label ='train loss')\n",
    "plt.plot(testLoss, label = 'test loss')\n",
    "plt.legend(loc = 'best')\n",
    "plt.show()"
   ]
  },
  {
   "cell_type": "code",
   "execution_count": null,
   "metadata": {
    "collapsed": true
   },
   "outputs": [],
   "source": []
  }
 ],
 "metadata": {
  "kernelspec": {
   "display_name": "Python 2",
   "language": "python",
   "name": "python2"
  },
  "language_info": {
   "codemirror_mode": {
    "name": "ipython",
    "version": 2
   },
   "file_extension": ".py",
   "mimetype": "text/x-python",
   "name": "python",
   "nbconvert_exporter": "python",
   "pygments_lexer": "ipython2",
   "version": "2.7.12"
  }
 },
 "nbformat": 4,
 "nbformat_minor": 2
}
